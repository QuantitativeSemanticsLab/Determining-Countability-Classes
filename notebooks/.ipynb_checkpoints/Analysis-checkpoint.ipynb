{
 "cells": [
  {
   "cell_type": "code",
   "execution_count": 2,
   "metadata": {},
   "outputs": [],
   "source": [
    "import os\n",
    "from vectors import save_obj , load_obj, parseFeqDep1\n",
    "from progressbar import printProgressBar"
   ]
  },
  {
   "cell_type": "code",
   "execution_count": 5,
   "metadata": {},
   "outputs": [],
   "source": [
    "def file_len(fname):\n",
    "    with open(fname) as f:\n",
    "        for i, l in enumerate(f):\n",
    "            pass\n",
    "    return i + 1"
   ]
  },
  {
   "cell_type": "code",
   "execution_count": 6,
   "metadata": {},
   "outputs": [],
   "source": [
    "def find_max():\n",
    "    root = 'F:/LinguisticsData/FrequentDependancies/NonUnique/Support_10/'\n",
    "    files = listdir(root)\n",
    "    dep_size = {}\n",
    "    for file in files:\n",
    "        path = root + file\n",
    "        index = file.find('_')\n",
    "        noun = file[0:index]\n",
    "#         print(\"noun: \" + noun)\n",
    "        size = 0\n",
    "        l = file_len(path)\n",
    "        with open(path, \"rb\") as f:\n",
    "            if(l > 1):\n",
    "                first = f.readline()        # Read the first line.\n",
    "                f.seek(-2, os.SEEK_END)     # Jump to the second last byte.\n",
    "                while f.read(1) != b\"\\n\":   # Until EOL is found...\n",
    "                    f.seek(-2, os.SEEK_CUR) # ...jump back the read byte plus one more.\n",
    "                last = f.readline().decode('utf-8')  # Read last line.\n",
    "            else:\n",
    "                last = f.readline().decode('utf-8')\n",
    "                \n",
    "            split = str.split(last,',')\n",
    "            size = int(''.join(c for c in split[0] if c.isdigit()))\n",
    "            \n",
    "            \n",
    "        if(size in dep_size.keys()):\n",
    "            dep_size[size].append(noun)\n",
    "        else:\n",
    "            dep_size[size] = [noun]\n",
    "    \n",
    "    \n",
    "    print(dep_size)\n",
    "    save_obj(name='dep_size', obj=dep_size)\n",
    "    print('Saved')"
   ]
  },
  {
   "cell_type": "code",
   "execution_count": 7,
   "metadata": {},
   "outputs": [],
   "source": [
    "def print_dep_size():\n",
    "    dic = load_obj('dep_size')\n",
    "    for key in dic:\n",
    "        print('Itemset size: ' + str(key) + ' Count: ' + str(len(dic[key])))\n",
    "        print(dic[key])\n",
    "        print('\\n\\n')"
   ]
  },
  {
   "cell_type": "code",
   "execution_count": 18,
   "metadata": {},
   "outputs": [],
   "source": [
    "#find all the types of the given dependancy and how often they occur frequently, result saved as a dictionary\n",
    "#path - path to directory with all the frequent itemset files eg''\n",
    "# d - name of dependancy to be counted\n",
    "\n",
    "def dep_count(path, d):\n",
    "    files = os.listdir(path)\n",
    "    dep_type = {}\n",
    "    printProgressBar(0,20,prefix = 'Progress:', suffix = 'Completed', length = 20)\n",
    "    c = 0\n",
    "    x = len(files) / 20\n",
    "    \n",
    "    for f in files:\n",
    "        deps = parseFeqDep1(path+f)\n",
    "        values = [a for a in deps if d in a]\n",
    "        for val in values:\n",
    "            if(val in dep_type.keys()):\n",
    "                dep_type[val] +=1\n",
    "            else:\n",
    "                dep_type[val] = 1\n",
    "        c+=1\n",
    "        if(c%x < 1):\n",
    "            printProgressBar(int(c/x),20,prefix = 'Progress:', suffix = 'Completed', length = 20)\n",
    "    \n",
    "    filename = d + '_types'\n",
    "#     save_obj(dep_count, filename)\n",
    "    print(dep_type)\n",
    "            \n",
    "        \n",
    "        "
   ]
  },
  {
   "cell_type": "code",
   "execution_count": 3,
   "metadata": {},
   "outputs": [
    {
     "name": "stdout",
     "output_type": "stream",
     "text": [
      "nmod:of; :4032\n",
      "nmod:poss; :2735\n",
      "nmod:for; :333\n",
      "nmod:in; :1308\n",
      "nmod:tmod; :46\n",
      "nmod:on; :348\n",
      "nmod:into; :64\n",
      "nmod:to; :309\n",
      "nmod:at; :162\n",
      "nmod:with; :390\n",
      "nmod:within; :4\n",
      "nmod:over; :12\n",
      "nmod:through; :16\n",
      "nmod:like; :15\n",
      "nmod:during; :4\n",
      "nmod:from; :40\n",
      "nmod:behind; :1\n",
      "nmod:between; :10\n",
      "nmod:per; :5\n",
      "nmod:npmod; :9\n",
      "nmod:without; :5\n",
      "nmod:against; :6\n",
      "nmod:before; :4\n",
      "nmod:under; :9\n",
      "nmod:until; :3\n",
      "nmod:along; :4\n",
      "nmod:since; :2\n",
      "nmod:as; :16\n",
      "nmod:after; :5\n",
      "nmod:by; :15\n",
      "nmod:around; :6\n",
      "nmod:out_of; :3\n",
      "nmod:about; :3\n",
      "nmod:than; :2\n",
      "nmod:'s; :1\n",
      "nmod:onto; :1\n",
      "nmod:off; :1\n",
      "nmod:across; :1\n",
      "nmod:above; :1\n"
     ]
    }
   ],
   "source": [
    "# x = 'nmod'\n",
    "# dep_count('/Users/aeshaanwahlang/Documents/LinguisticsData/FrequentDependancies/RightCompounds/Unique/Support_10/', x)\n",
    "dic = load_obj('nmod_types')\n",
    "for key in dic:\n",
    "    print(key + ' :' + str(dic[key]))\n"
   ]
  },
  {
   "cell_type": "code",
   "execution_count": null,
   "metadata": {},
   "outputs": [],
   "source": []
  }
 ],
 "metadata": {
  "kernelspec": {
   "display_name": "Python 3",
   "language": "python",
   "name": "python3"
  },
  "language_info": {
   "codemirror_mode": {
    "name": "ipython",
    "version": 3
   },
   "file_extension": ".py",
   "mimetype": "text/x-python",
   "name": "python",
   "nbconvert_exporter": "python",
   "pygments_lexer": "ipython3",
   "version": "3.6.6"
  }
 },
 "nbformat": 4,
 "nbformat_minor": 2
}
