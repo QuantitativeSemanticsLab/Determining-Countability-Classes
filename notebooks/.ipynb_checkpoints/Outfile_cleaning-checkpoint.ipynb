{
 "cells": [
  {
   "cell_type": "markdown",
   "metadata": {},
   "source": [
    "#### Code to clean outfile\n",
    "---\n",
    "#### Todo:\n",
    "* ~~remove tags <p, br,...>~~\n",
    "* ~~remove sentences that dont begin with caps~~\n",
    "* ~~remove sentences where noun is in all caps~~"
   ]
  },
  {
   "cell_type": "code",
   "execution_count": 20,
   "metadata": {},
   "outputs": [],
   "source": [
    "import os\n",
    "import pandas as pd\n",
    "import re"
   ]
  },
  {
   "cell_type": "code",
   "execution_count": 14,
   "metadata": {},
   "outputs": [],
   "source": [
    "# function returns True if the row is valid, False if any of the conditions break\n",
    "def clean(row):\n",
    "    sentence = row['Sentence']\n",
    "    noun = row[\"Noun\"]\n",
    "    \n",
    "    #check if sentece begins with upper case\n",
    "    i = 0\n",
    "    while(sentence[i].isalnum()!=True): i += 1\n",
    "    if sentence[i].isupper() != True: return False\n",
    "    \n",
    "    #check for all uppercase noun\n",
    "    if noun.isupper() and noun.isalpha() : return False\n",
    "    \n",
    "    #check tags\n",
    "    regex = \"<.*>\"\n",
    "    if bool(re.search(regex, sentence)): return False\n",
    "    \n",
    "    return True\n",
    "    "
   ]
  },
  {
   "cell_type": "code",
   "execution_count": 40,
   "metadata": {},
   "outputs": [
    {
     "name": "stdout",
     "output_type": "stream",
     "text": [
      "True\n"
     ]
    }
   ],
   "source": [
    "x = 'this is a and <br>'\n",
    "print(bool(re.search(\"<.*>\", x)))"
   ]
  },
  {
   "cell_type": "code",
   "execution_count": null,
   "metadata": {},
   "outputs": [],
   "source": [
    "def run(outfiles_dir, save_dir):\n",
    "    files = os.listdir(outfiles_dir)\n",
    "    for f in files:\n",
    "        print(\"...running %s\" % f)\n",
    "        df = pd.read_csv(outfiles_dir+f)\n",
    "        df['mask'] = df.apply(lambda row: clean(row), axis=1)\n",
    "        df = df.loc[df['mask'] == True]\n",
    "        \n",
    "        df.to_csv(save_dir+f, index=False)\n",
    "        "
   ]
  }
 ],
 "metadata": {
  "kernelspec": {
   "display_name": "Python 3",
   "language": "python",
   "name": "python3"
  },
  "language_info": {
   "codemirror_mode": {
    "name": "ipython",
    "version": 3
   },
   "file_extension": ".py",
   "mimetype": "text/x-python",
   "name": "python",
   "nbconvert_exporter": "python",
   "pygments_lexer": "ipython3",
   "version": "3.6.8"
  }
 },
 "nbformat": 4,
 "nbformat_minor": 2
}
