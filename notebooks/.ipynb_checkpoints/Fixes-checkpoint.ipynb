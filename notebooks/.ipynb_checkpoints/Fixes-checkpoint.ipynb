{
 "cells": [
  {
   "cell_type": "markdown",
   "metadata": {},
   "source": [
    "### Code to fix Excel fuck up(s) for Allan test"
   ]
  },
  {
   "cell_type": "code",
   "execution_count": 1,
   "metadata": {},
   "outputs": [],
   "source": [
    "import pandas as pd\n",
    "import numpy as np\n",
    "import os"
   ]
  },
  {
   "cell_type": "code",
   "execution_count": 97,
   "metadata": {},
   "outputs": [],
   "source": [
    "errors = pd.read_csv(\"/Users/aeshaanwahlang/Desktop/Allan_Errors_6_22.csv\")\n",
    "\n",
    "def lowerCase(x):\n",
    "    return x.lower()\n",
    "\n",
    "def fix(path, file, saveDir):  \n",
    "    noun = file.replace(\"_AllanTest.csv\", \"\")\n",
    "    sentences = errors.loc[errors[\"Noun\"].apply(lowerCase) == noun, \"Relevant Dependencies\"].values\n",
    "    df = pd.read_csv(path+file)\n",
    "    \n",
    "    errorIdx = []\n",
    "    for sen in sentences:\n",
    "        errorIdx.append(df.index[df[\"Relevant Dependencies\"] == sen].tolist()[0])\n",
    "    \n",
    "    df = df.drop(df.index[errorIdx])\n",
    "    df.to_csv(saveDir+noun+\"_AllanTest.csv\", index=False)\n",
    "    "
   ]
  },
  {
   "cell_type": "code",
   "execution_count": 98,
   "metadata": {},
   "outputs": [],
   "source": [
    "def getBadSentences(path, file, saveDir):\n",
    "    noun = file.replace(\"_AllanTest.csv\", \"\")\n",
    "    sentences = errors.loc[errors[\"Noun\"].apply(lowerCase) == noun, \"Relevant Dependencies\"].values\n",
    "    df = pd.read_csv(path+file)\n",
    "    df2 = pd.DataFrame(columns=df.columns)\n",
    "    \n",
    "    errorIdx = []\n",
    "    for sen in sentences:\n",
    "        errorIdx.append(df.index[df[\"Relevant Dependencies\"] == sen].tolist()[0])\n",
    "    \n",
    "    idx = 0\n",
    "    for err in errorIdx:\n",
    "        df2.loc[idx] = df.iloc[err]\n",
    "        idx += 1\n",
    "    \n",
    "    df2.to_csv(saveDir+noun+\"BadSentences.csv\", index=False)\n",
    "    "
   ]
  },
  {
   "cell_type": "code",
   "execution_count": 80,
   "metadata": {},
   "outputs": [],
   "source": [
    "out = \"/Users/aeshaanwahlang/Documents/QuantitativeSemanticsData/AllanTest/\"\n",
    "saveDir = \"/Users/aeshaanwahlang/Documents/QuantitativeSemanticsData/AllanTestBad/\"\n",
    "file = \"wine_AllanTest.csv\"\n",
    "\n",
    "getBadSentences(out, file, saveDir)"
   ]
  },
  {
   "cell_type": "code",
   "execution_count": 99,
   "metadata": {},
   "outputs": [
    {
     "name": "stdout",
     "output_type": "stream",
     "text": [
      "...fixing pants_AllanTest.csv\n",
      "...fixing furniture_AllanTest.csv\n",
      "...fixing bed_AllanTest.csv\n",
      "...fixing car_AllanTest.csv\n",
      "...fixing banjo_AllanTest.csv\n",
      "...fixing oak_AllanTest.csv\n",
      "...fixing water_AllanTest.csv\n",
      "...fixing measles_AllanTest.csv\n",
      "...fixing wine_AllanTest.csv\n",
      "...fixing lamb_AllanTest.csv\n",
      "...fixing beetle_AllanTest.csv\n",
      "...fixing material_AllanTest.csv\n",
      "...fixing spider_AllanTest.csv\n",
      "...fixing mankind_AllanTest.csv\n",
      "...fixing lightning_AllanTest.csv\n",
      "...fixing heat_AllanTest.csv\n",
      "...fixing mathematics_AllanTest.csv\n",
      "...fixing wheat_AllanTest.csv\n",
      "...fixing scissors_AllanTest.csv\n",
      "...fixing thunder_AllanTest.csv\n",
      "...fixing equipment_AllanTest.csv\n",
      "...fixing evidence_AllanTest.csv\n",
      "...fixing brick_AllanTest.csv\n",
      "...fixing hair_AllanTest.csv\n",
      "...fixing physics_AllanTest.csv\n",
      "...fixing cattle_AllanTest.csv\n",
      "...fixing admiration_AllanTest.csv\n",
      "fixed!\n"
     ]
    }
   ],
   "source": [
    "out = \"/Users/aeshaanwahlang/Documents/QuantitativeSemanticsData/AllanTest/\"\n",
    "saveDir = \"/Users/aeshaanwahlang/Documents/QuantitativeSemanticsData/AllanTestFix3/\"\n",
    "files = os.listdir(out)\n",
    "\n",
    "for file in files:\n",
    "    if file == '.DS_Store': continue\n",
    "    print(\"...fixing \"+file)\n",
    "    fix(out, file, saveDir)\n",
    "    \n",
    "print(\"fixed!\")\n",
    "\n",
    "# fix(out, \"wheat_AllanTest.csv\", saveDir)\n"
   ]
  },
  {
   "cell_type": "markdown",
   "metadata": {},
   "source": [
    "#### Temp code to modify allan celex master file"
   ]
  },
  {
   "cell_type": "code",
   "execution_count": null,
   "metadata": {},
   "outputs": [],
   "source": [
    "df = pd.read_csv(\"/Users/aeshaanwahlang/Documents/QuantitativeSemanticsData/countability/countabilityAnalysis_Celex.csv\")\n",
    "df[\"Countability_class\"] = \"\"\n",
    "\n",
    "for idx,row in df.iterrows():\n",
    "    count = row[\"Celex_Countable\"]\n",
    "    uncount = row[\"Celex_Uncountable\"]\n",
    "\n",
    "    if idx % 1000 == 0:\n",
    "        print(str(idx) + \" rows done...\")\n",
    "        \n",
    "    if count == 1 and uncount == 0:\n",
    "        df.at[idx, \"Countability_class\"] = \"countable\"\n",
    "        continue\n",
    "    if uncount == 1 and count == 0:\n",
    "        df.at[idx, \"Countability_class\"] = \"uncountable\"\n",
    "        continue\n",
    "    else:\n",
    "        df.at[idx, \"Countability_class\"] = \"ambiguous\"\n",
    "        continue\n",
    "    \n",
    "df.to_csv(\"/Users/aeshaanwahlang/Documents/QuantitativeSemanticsData/countability/countabilityAnalysis_Celex2.csv\", index=False)\n",
    "    \n",
    "    "
   ]
  },
  {
   "cell_type": "markdown",
   "metadata": {},
   "source": [
    "### Fix for noun count error"
   ]
  },
  {
   "cell_type": "code",
   "execution_count": null,
   "metadata": {},
   "outputs": [],
   "source": [
    "master = pd.read_csv(\"/Users/aeshaanwahlang/Documents/QuantitativeSemanticsData/docs/masterFile_May2019.csv\")\n",
    "count = pd.read_csv(\"/Users/aeshaanwahlang/Documents/QuantitativeSemanticsData/countability/countabilityAnalysis_Celex.csv\")\n",
    "\n",
    "for idx in range(count.shape[0]):\n",
    "    noun = count.loc[idx, \"Noun\"]\n",
    "    try:\n",
    "        val = master.loc[master['Noun'] == noun, [\"Noun Count\"]]['Noun Count'].values[0]\n",
    "    except:\n",
    "        print(\"exception!\")\n",
    "        print(noun)\n",
    "    count.at[idx, \"Noun Count\"] = val\n",
    "    if idx%1000 == 0: print(idx)\n",
    "\n"
   ]
  },
  {
   "cell_type": "markdown",
   "metadata": {},
   "source": [
    "### Add master file column"
   ]
  },
  {
   "cell_type": "code",
   "execution_count": null,
   "metadata": {},
   "outputs": [],
   "source": [
    "def add_col(col, master, count):\n",
    "    for idx in range(count.shape[0]):\n",
    "        noun = count.loc[idx, \"Noun\"]\n",
    "        try:\n",
    "            val = master.loc[master['Noun'] == noun, [col]][col].values[0]\n",
    "        except:\n",
    "            print(\"exception!\")\n",
    "            print(noun)\n",
    "        count.at[idx, col] = val\n",
    "        if idx%1000 == 0: print(idx)\n",
    "            \n",
    "    count.to_csv(\"/Users/aeshaanwahlang/Documents/QuantitativeSemanticsData/countability/countabilityAnalysis_Celex.csv\", index=False)\n",
    "    \n",
    "    \n",
    "    "
   ]
  },
  {
   "cell_type": "code",
   "execution_count": 37,
   "metadata": {},
   "outputs": [],
   "source": [
    "count.to_csv(\"/Users/aeshaanwahlang/Documents/QuantitativeSemanticsData/countability/countabilityAnalysis_Celex.csv\", index=False)"
   ]
  }
 ],
 "metadata": {
  "kernelspec": {
   "display_name": "Python 3",
   "language": "python",
   "name": "python3"
  },
  "language_info": {
   "codemirror_mode": {
    "name": "ipython",
    "version": 3
   },
   "file_extension": ".py",
   "mimetype": "text/x-python",
   "name": "python",
   "nbconvert_exporter": "python",
   "pygments_lexer": "ipython3",
   "version": "3.6.8"
  }
 },
 "nbformat": 4,
 "nbformat_minor": 2
}
