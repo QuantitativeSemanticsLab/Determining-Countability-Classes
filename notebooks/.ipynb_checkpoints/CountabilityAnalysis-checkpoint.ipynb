{
 "cells": [
  {
   "cell_type": "code",
   "execution_count": 1,
   "metadata": {},
   "outputs": [],
   "source": [
    "import pandas as pd"
   ]
  },
  {
   "cell_type": "code",
   "execution_count": 2,
   "metadata": {},
   "outputs": [],
   "source": [
    "master = pd.read_csv(\"../data/countability_masterFile.csv\")"
   ]
  },
  {
   "cell_type": "code",
   "execution_count": 33,
   "metadata": {},
   "outputs": [],
   "source": [
    "df = master[[\"Noun\", \"class\"]]\n",
    "consistent = []\n",
    "varied = []\n",
    "multiSense = []\n",
    "c = 0\n",
    "for row in df.iterrows():\n",
    "    c += 1\n",
    "    noun = row[1][\"Noun\"]\n",
    "    becl = row[1]['class'].replace(\"[\", \"\").replace(\"]\", \"\").split()\n",
    "    if len(becl) > 1:\n",
    "        multiSense.append((noun, becl))\n",
    "    becl = set(becl)\n",
    "    if len(becl)>1:\n",
    "        varied.append((noun,becl))\n",
    "    elif len(becl) != 0:\n",
    "        consistent.append((noun,becl))\n"
   ]
  },
  {
   "cell_type": "code",
   "execution_count": 40,
   "metadata": {},
   "outputs": [
    {
     "data": {
      "text/plain": [
       "2760"
      ]
     },
     "execution_count": 40,
     "metadata": {},
     "output_type": "execute_result"
    }
   ],
   "source": [
    "len(consistent)- len(multiSense)"
   ]
  },
  {
   "cell_type": "code",
   "execution_count": 33,
   "metadata": {},
   "outputs": [],
   "source": [
    "esl_df = pd.read_csv(\"[PATH TO CELEX]/esl-2.txt\", sep='\\\\', header=None)"
   ]
  },
  {
   "cell_type": "code",
   "execution_count": 42,
   "metadata": {},
   "outputs": [],
   "source": [
    "# function to return a value or row(if col==None) for a given word from celex est\n",
    "# col = 4 *countable* col = 5 *uncountable*\n",
    "def esl(word, col=None):\n",
    "    global esl_df\n",
    "    try:\n",
    "        if col: val = esl_df.loc[esl_df[1].str.lower() ==  word].values[0][col]\n",
    "        else: val = esl_df.loc[esl_df[1].str.lower() ==  word].values[0]\n",
    "            \n",
    "        if val == \"Y\": return \"1\"\n",
    "        elif val == \"N\": return \"0\"\n",
    "        \n",
    "    except IndexError: return \"\"\n",
    "    "
   ]
  },
  {
   "cell_type": "code",
   "execution_count": 59,
   "metadata": {},
   "outputs": [
    {
     "data": {
      "text/plain": [
       "'1'"
      ]
     },
     "execution_count": 59,
     "metadata": {},
     "output_type": "execute_result"
    }
   ],
   "source": [
    "esl(\"equipment\", 5)"
   ]
  },
  {
   "cell_type": "markdown",
   "metadata": {},
   "source": [
    "### Add celex labels to Allan test result file"
   ]
  },
  {
   "cell_type": "code",
   "execution_count": 53,
   "metadata": {},
   "outputs": [],
   "source": [
    "def addCelex(df):\n",
    "    df['Celex_Countable'] = \"N/A\"\n",
    "    df['Celex_Uncountable'] = \"N/A\"\n",
    "    \n",
    "    for idx, row in df.iterrows():\n",
    "        noun = row[\"Noun\"]\n",
    "        count = esl(noun, 4)\n",
    "        uncount = esl(noun, 5)\n",
    "        \n",
    "        if count != \"\" : df.at[idx, \"Celex_Countable\"] = count\n",
    "        if uncount != \"\" : df.at[idx, \"Celex_Uncountable\"] = uncount\n",
    "        \n",
    "        if idx % 200 == 0 :\n",
    "            print(str(idx) + \" rows done...\")\n",
    "#             if idx == 1000 : break\n",
    "            \n",
    "         \n",
    "    df.to_csv(\"..data/countabilityAnalysis_Celex.csv\", index=False)\n",
    "    print(\"done!\")"
   ]
  },
  {
   "cell_type": "code",
   "execution_count": null,
   "metadata": {},
   "outputs": [],
   "source": [
    "file = pd.read_csv(\"../data/countabilityAnalysis.csv\")\n",
    "addCelex(file)"
   ]
  },
  {
   "cell_type": "code",
   "execution_count": null,
   "metadata": {},
   "outputs": [],
   "source": []
  }
 ],
 "metadata": {
  "kernelspec": {
   "display_name": "Python 3",
   "language": "python",
   "name": "python3"
  },
  "language_info": {
   "codemirror_mode": {
    "name": "ipython",
    "version": 3
   },
   "file_extension": ".py",
   "mimetype": "text/x-python",
   "name": "python",
   "nbconvert_exporter": "python",
   "pygments_lexer": "ipython3",
   "version": "3.7.6"
  }
 },
 "nbformat": 4,
 "nbformat_minor": 4
}
