{
 "cells": [
  {
   "cell_type": "code",
   "execution_count": 1,
   "metadata": {},
   "outputs": [],
   "source": [
    "import os"
   ]
  },
  {
   "cell_type": "code",
   "execution_count": 2,
   "metadata": {},
   "outputs": [],
   "source": [
    "import os\n",
    "#parse Frequent Relevant Dependancies of all sizes    \n",
    "def parseFullFeqDep(path):\n",
    "    deps = {}\n",
    "    with open(path, 'r') as f:\n",
    "        content = f.readlines()\n",
    "    \n",
    "    for line in content:\n",
    "        values = line.split(',')\n",
    "        for idx in range(0, len(values)):\n",
    "            val = values[idx]\n",
    "            if('Frequent Itemset size' not in val and '%'not in val and val != '\\n' and val != ''):\n",
    "                if val not in deps: deps[val] = values[idx+1] #* Assuming all vals are unqiue\n",
    "    return deps\n",
    "\n",
    "\n",
    "def findNouns(freqPatternsDir):\n",
    "    files = os.listdir(freqPatternsDir)\n",
    "    \n",
    "    for f in files:\n",
    "        print(f)\n",
    "        deps = parseFullFeqDep(freqPatternsDir+f)\n",
    "        print(deps)\n",
    "        break\n",
    "        \n",
    "        \n",
    "findNouns(\"\")"
   ]
  },
  {
   "cell_type": "code",
   "execution_count": null,
   "metadata": {},
   "outputs": [],
   "source": []
  },
  {
   "cell_type": "code",
   "execution_count": null,
   "metadata": {},
   "outputs": [],
   "source": []
  }
 ],
 "metadata": {
  "kernelspec": {
   "display_name": "Python 3",
   "language": "python",
   "name": "python3"
  },
  "language_info": {
   "codemirror_mode": {
    "name": "ipython",
    "version": 3
   },
   "file_extension": ".py",
   "mimetype": "text/x-python",
   "name": "python",
   "nbconvert_exporter": "python",
   "pygments_lexer": "ipython3",
   "version": "3.6.6"
  }
 },
 "nbformat": 4,
 "nbformat_minor": 2
}
