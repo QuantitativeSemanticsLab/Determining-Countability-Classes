{
 "cells": [
  {
   "cell_type": "markdown",
   "metadata": {},
   "source": [
    "### Clustering with Allan test and subtypes"
   ]
  },
  {
   "cell_type": "code",
   "execution_count": 19,
   "metadata": {},
   "outputs": [],
   "source": [
    "import pandas as pd\n",
    "import numpy as np\n",
    "import operator\n",
    "import seaborn as sns\n",
    "from matplotlib import pyplot as plt\n",
    "from sklearn.preprocessing import MinMaxScaler, StandardScaler\n",
    "from sklearn.cluster import DBSCAN\n"
   ]
  },
  {
   "cell_type": "code",
   "execution_count": 78,
   "metadata": {},
   "outputs": [],
   "source": [
    "# Data and features \n",
    "df = pd.read_csv(\"../data/countabilityAnalysis_Celex.csv\")\n",
    "test = ['A+N', 'F+N', 'O-Den']\n",
    "useless_subtypes = ['Non-Denumerators','approximative', 'comparative', 'round numbers','plural numeral','the'\n",
    "                    'non denumerating quantifier','partitive', 'measure','digits', 'all+N']\n",
    "useful_subtypes = [ 'non quantificational', 'precise quantifier','imprecise quantifier',\n",
    "                  'a/an', 'number']\n",
    "bares = ['Bare Plural', 'Bare Singular']\n",
    "npp = ['Plural Noun Percentage']\n",
    "countability = ['Celex_Countable', 'Celex_Uncountable']\n"
   ]
  },
  {
   "cell_type": "code",
   "execution_count": 46,
   "metadata": {},
   "outputs": [
    {
     "data": {
      "text/plain": [
       "Index(['Noun', 'A+N', 'F+N', 'all+N', 'O-Den', 'Bare Singular', 'Bare Plural',\n",
       "       'Non-Denumerators', 'a/an', 'number', 'digits', 'plural numeral',\n",
       "       'approximative', 'comparative', 'round numbers', 'imprecise quantifier',\n",
       "       'precise quantifier', 'non denumerating quantifier', 'measure',\n",
       "       'non quantificational', 'partitive', 'the', 'N/A', 'Celex_Countable',\n",
       "       'Celex_Uncountable', 'Noun Count', 'Plural Noun Percentage'],\n",
       "      dtype='object')"
      ]
     },
     "execution_count": 46,
     "metadata": {},
     "output_type": "execute_result"
    }
   ],
   "source": [
    "df.columns"
   ]
  },
  {
   "cell_type": "code",
   "execution_count": 93,
   "metadata": {},
   "outputs": [
    {
     "name": "stdout",
     "output_type": "stream",
     "text": [
      "Index(['A+N', 'F+N', 'O-Den', 'all+N', 'Bare Plural', 'Bare Singular'], dtype='object')\n",
      "(6872, 6)\n"
     ]
    }
   ],
   "source": [
    "# Clustering features \n",
    "cols = test + ['all+N'] + bares\n",
    "data = df.loc[df['Noun Count']>500, cols+['Noun']]\n",
    "nouns = data[['Noun']]\n",
    "data = data.drop(columns=['Noun'])\n",
    "print(data.columns)\n",
    "print(data.shape)\n",
    "ref = data.copy()\n",
    "ref['Noun'] = nouns\n",
    "ref_mean = ref.mean(axis=0)"
   ]
  },
  {
   "cell_type": "code",
   "execution_count": 81,
   "metadata": {},
   "outputs": [
    {
     "data": {
      "text/plain": [
       "A+N              0.275828\n",
       "F+N              0.015626\n",
       "O-Den            0.071751\n",
       "all+N            0.004371\n",
       "Bare Plural      0.128061\n",
       "Bare Singular    0.300038\n",
       "dtype: float64"
      ]
     },
     "execution_count": 81,
     "metadata": {},
     "output_type": "execute_result"
    }
   ],
   "source": [
    "ref_mean"
   ]
  },
  {
   "cell_type": "code",
   "execution_count": 94,
   "metadata": {},
   "outputs": [],
   "source": [
    "# standard scalar (z-score normalization)\n",
    "stdscalar = StandardScaler().fit(data)\n",
    "d2 = stdscalar.transform(data)\n"
   ]
  },
  {
   "cell_type": "code",
   "execution_count": 8,
   "metadata": {},
   "outputs": [],
   "source": [
    "# Clustering helpers\n",
    "def analyse_result(res, labels):\n",
    "    unique, counts = np.unique(res, return_counts = True)\n",
    "    uni = dict(zip(unique, counts))\n",
    "    max = 0\n",
    "    total = 0\n",
    "    for key in uni:\n",
    "        if key == -1 : continue\n",
    "        val = uni[key]\n",
    "        if(val > max): max = val\n",
    "        total += val\n",
    "    sorted_uni = sorted(uni.items(), key=operator.itemgetter(1))\n",
    "    print(\"Clusters found: \" + str(res.max()+1))\n",
    "    noise = np.count_nonzero(res == -1)\n",
    "    noise2 = round(noise/len(res), 3)*100\n",
    "    print(\"Noise: \" + str(noise) + \" (\" + str(noise2) + \"%)\")\n",
    "    print(\"Avarage cluster size: \" + str(round(total/len(uni), 3)) + \"\\nLargest cluster: \" + str(max))\n",
    "    \n",
    "    return Clustering(res, labels)\n",
    "\n",
    "class Clustering:\n",
    "    def __init__(self, res, labels):\n",
    "        self.clusters = {}\n",
    "        labels['cluster'] = res\n",
    "        groups = labels.groupby('cluster')\n",
    "        for c in range(res.max()+1):\n",
    "            self.clusters[c] = groups.get_group(c)['Noun'].values\n",
    "        try:\n",
    "            self.noise = groups.get_group(-1)['Noun'].values\n",
    "        except KeyError:\n",
    "            self.noise = 0\n",
    "    \n",
    "    def __str__(self):\n",
    "        print(\"---------------------\")\n",
    "        for key in self.clusters:\n",
    "            print(\"Cluster: \" + str(key) )\n",
    "            print(\"Size: \" + str(len(self.clusters[key])))\n",
    "            s = get_similarity(self.clusters[key])\n",
    "            print(s)\n",
    "            print(\"---------------------\")\n",
    "            for w in self.clusters[key]: print(w)\n",
    "            print((\"---------------------\"))\n",
    "        return \"end\"\n",
    "    \n",
    "    def cluster_details(self):\n",
    "        for key in self.clusters:\n",
    "            print(\"Cluster: \" + str(key) )\n",
    "            print(\"Size: \" + str(len(self.clusters[key])))\n",
    "            s = get_similarity(self.clusters[key])\n",
    "            print(s)\n",
    "            print(\"---------------------\")\n",
    "            \n",
    "    def print_cluster(self, c):\n",
    "        print(get_similarity(self.clusters[c]))\n",
    "        print(\"---------------------\")\n",
    "        for w in self.clusters[c]:\n",
    "            print(w)\n",
    "\n",
    "def get_similarity(cluster):\n",
    "    df_slice = ref.loc[ref['Noun'].isin(cluster), ref.columns]\n",
    "    std = df_slice.std(axis=0)\n",
    "    mean = df_slice.mean(axis=0)\n",
    "    delta_mean = []\n",
    "    for col in mean.index:\n",
    "        delta_mean.append(mean[col]-ref_mean[col])\n",
    "    \n",
    "    delta_mean = pd.Series(delta_mean, index=mean.index)\n",
    "    res = pd.concat([std, mean, delta_mean], axis =1)\n",
    "    res.columns = ['STD', 'Mean', 'delta Mean']\n",
    "    return res"
   ]
  },
  {
   "cell_type": "code",
   "execution_count": 142,
   "metadata": {},
   "outputs": [],
   "source": [
    "def find_words(words, c):\n",
    "    found = {}\n",
    "    for k in c.clusters:\n",
    "        for w in words:\n",
    "            if w in c.clusters[k]:\n",
    "                if k in found: found[k].append(w)\n",
    "                else: found[k] = [w]\n",
    "    for k, val in found.items():\n",
    "        for w in val: print(w + \"-> \" + str(k))\n",
    "        print(\"\")\n",
    "\n",
    "def feature_heatmap(clustering, drop, save= False):\n",
    "    cols = get_similarity(clustering.clusters[0]).index.to_list()\n",
    "    map_data = pd.DataFrame(columns=['cluster', 'name']+cols)\n",
    "    \n",
    "    names = {18:\"Denumerable Pluralia Tantum\", 22:\"Non-denumerable Pluralia Tantum\",\n",
    "             5:\"Gregarious Entities/People\", 17:\"Canonically Plural Nouns (Paired Entities)\",\n",
    "             7:\"Core Countable Nouns\", 8:\"Core Countable Nouns\", 9:\"Strong Singletons\",\n",
    "             15:\"Weakly Denumerable Pluralia Tantum\", 1:\"Countable/Bare Singular\",\n",
    "             6:\"Mainly Singletons/Some Non-countable\", 3:\"Strongly Non-Countable\",\n",
    "             12:\"Core Non-Countable (Denumerable)\", 4:\"Non-Countable/Singleton Instances\",\n",
    "             0:\"Core Non-Countable\", 2:\"Core Non-Countable\" }\n",
    "    \n",
    "    count = 0\n",
    "    for k, c in clustering.clusters.items():\n",
    "        sim = get_similarity(c)\n",
    "        map_data.at[count, 'cluster'] = \"cluster \" + str(k)\n",
    "        map_data.at[count, 'name'] = names.get(count, \"N/A\")\n",
    "        for c in cols:\n",
    "            map_data.at[count, c] = sim.loc[c, \"Mean\"]\n",
    "            \n",
    "        count += 1\n",
    "    \n",
    "#     print(map_data)\n",
    "    map_data = map_data.drop(columns=['all+N'])\n",
    "    \n",
    "    map_data = map_data.drop(map_data.index[drop])\n",
    "    y_lables = map_data['name'].values\n",
    "    map_data = map_data.drop(columns=['cluster', 'name'])\n",
    "    map_data = map_data[map_data.columns].astype(float)\n",
    "#     map_data = map_data.sort_values(by=['Bare Singular'], ascending=False)\n",
    "    \n",
    "    sns.set(font_scale=1.2)\n",
    "    ax = sns.clustermap(map_data, yticklabels=y_lables, cmap=\"Greys\", metric=\"canberra\",\n",
    "                        figsize=(8,6), linewidths=1)\n",
    "    \n",
    "#     print(ax.dendrogram_col.linkage)\n",
    "    if save:\n",
    "        ax.savefig(\"grey_cluster_heatmap.pdf\", bbox_inches=\"tight\")\n",
    "        print(\"Figure saved.\")\n",
    "    \n",
    "    return ax\n"
   ]
  },
  {
   "cell_type": "code",
   "execution_count": 88,
   "metadata": {},
   "outputs": [
    {
     "name": "stdout",
     "output_type": "stream",
     "text": [
      "---DBSCAN---\n",
      "Clusters found: 23\n",
      "Noise: 2323 (33.900000000000006%)\n",
      "Avarage cluster size: 189.042\n",
      "Largest cluster: 663\n"
     ]
    }
   ],
   "source": [
    "# DBSCAN clustering\n",
    "print(\"---DBSCAN---\")\n",
    "db = DBSCAN(eps=0.9, min_samples=8, metric='canberra').fit(d2)\n",
    "c2 = analyse_result(db.labels_, nouns)"
   ]
  },
  {
   "cell_type": "code",
   "execution_count": 89,
   "metadata": {},
   "outputs": [
    {
     "name": "stdout",
     "output_type": "stream",
     "text": [
      "bed-> 0\n",
      "heat-> 0\n",
      "physics-> 0\n",
      "lightning-> 0\n",
      "water-> 0\n",
      "\n",
      "scissors-> 1\n",
      "\n",
      "equipment-> 2\n",
      "thunder-> 2\n",
      "evidence-> 2\n",
      "furniture-> 2\n",
      "\n",
      "wheat-> 3\n",
      "\n",
      "lamb-> 4\n",
      "\n",
      "spider-> 8\n",
      "\n",
      "admiration-> 10\n",
      "\n",
      "pants-> 15\n",
      "\n",
      "cattle-> 18\n",
      "\n"
     ]
    }
   ],
   "source": [
    "words = ['cattle', 'scissors', 'mankind', 'oak', 'equipment', 'banjo', 'spider', 'admiration', 'lamb', 'brick',\n",
    "        'car', 'beetle', 'bed', 'wine', 'hair', 'material', 'thunder', 'heat', 'wheat', 'physics', \n",
    "        'mathamatics', 'lightning', 'evidence', 'water', 'furniture', 'pants', 'measles']\n",
    "find_words(words, c2)"
   ]
  },
  {
   "cell_type": "code",
   "execution_count": 143,
   "metadata": {},
   "outputs": [
    {
     "name": "stdout",
     "output_type": "stream",
     "text": [
      "Figure saved.\n"
     ]
    },
    {
     "data": {
      "image/png": "[encoded data removed]",
      "text/plain": [
       "<Figure size 576x432 with 4 Axes>"
      ]
     },
     "metadata": {},
     "output_type": "display_data"
    }
   ],
   "source": [
    "cluster_grid = feature_heatmap(c2, drop=[21,10,14,16,19,11,13,20], save=True)"
   ]
  },
  {
   "cell_type": "code",
   "execution_count": 132,
   "metadata": {},
   "outputs": [
    {
     "name": "stdout",
     "output_type": "stream",
     "text": [
      "[[ 0.          4.          7.18940354  2.        ]\n",
      " [ 2.          5.          8.03633195  3.        ]\n",
      " [ 3.          6.          9.57594918  4.        ]\n",
      " [ 1.          7.         11.62123498  5.        ]]\n"
     ]
    }
   ],
   "source": [
    "print(cluster_grid.dendrogram_col.linkage)"
   ]
  },
  {
   "cell_type": "code",
   "execution_count": 92,
   "metadata": {},
   "outputs": [
    {
     "name": "stdout",
     "output_type": "stream",
     "text": [
      "                    STD      Mean  delta Mean\n",
      "A+N            0.059277  0.043262   -0.232567\n",
      "F+N            0.053488  0.076858    0.061232\n",
      "O-Den          0.161283  0.226494    0.154743\n",
      "all+N          0.000030  0.000010   -0.004362\n",
      "Bare Plural    0.018664  0.005788   -0.122273\n",
      "Bare Singular  0.035890  0.021273   -0.278765\n",
      "---------------------\n",
      "books\n",
      "briefs\n",
      "cattle\n",
      "clothes\n",
      "eleven\n",
      "foot\n",
      "fries\n",
      "goods\n",
      "manners\n",
      "mathematics\n",
      "memoirs\n",
      "papers\n",
      "people\n",
      "percent\n",
      "personnel\n",
      "pound\n",
      "predecessor\n",
      "prospects\n",
      "riches\n",
      "rights\n",
      "seconds\n",
      "shades\n",
      "singles\n",
      "species\n",
      "spectacles\n",
      "statistics\n",
      "supplies\n",
      "teens\n",
      "travels\n",
      "troops\n",
      "wares\n",
      "whites\n",
      "writings\n"
     ]
    }
   ],
   "source": [
    "c2.print_cluster(18)"
   ]
  }
 ],
 "metadata": {
  "kernelspec": {
   "display_name": "Python 3",
   "language": "python",
   "name": "python3"
  },
  "language_info": {
   "codemirror_mode": {
    "name": "ipython",
    "version": 3
   },
   "file_extension": ".py",
   "mimetype": "text/x-python",
   "name": "python",
   "nbconvert_exporter": "python",
   "pygments_lexer": "ipython3",
   "version": "3.7.6"
  }
 },
 "nbformat": 4,
 "nbformat_minor": 4
}
